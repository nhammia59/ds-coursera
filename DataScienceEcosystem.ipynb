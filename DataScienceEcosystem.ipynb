{
 "cells": [
  {
   "cell_type": "markdown",
   "id": "ec16dd39-f80d-4cb7-8db9-66faefd8686d",
   "metadata": {
    "tags": []
   },
   "source": [
    "# Data Science Tools and Ecosystem"
   ]
  },
  {
   "cell_type": "markdown",
   "id": "661ef053-653f-4b99-8944-4481d2c01dd0",
   "metadata": {},
   "source": [
    "In this notebook, Data Science Tools and Ecosystem are summarized."
   ]
  },
  {
   "cell_type": "markdown",
   "id": "5273d2d3-4599-4939-9bf4-28565dc3377d",
   "metadata": {},
   "source": [
    "**Objectives:**\n",
    "- List popular languages for Data Science\n",
    "- List popular libraries for Data Science\n",
    "- Know 3 development environment open source tools used in data science"
   ]
  },
  {
   "cell_type": "markdown",
   "id": "6bcc2daa-0139-48db-a1e2-dbda9551a4a7",
   "metadata": {},
   "source": [
    "Some of the popular languages that Data Scientists use are:\n",
    "1. Python\n",
    "2. SQL\n",
    "3. R\n",
    "4. Julia\n",
    "5. JavaScript\n",
    "6. Scala\n",
    "7. Java\n",
    "8. Go"
   ]
  },
  {
   "cell_type": "markdown",
   "id": "d4c56898-4d3a-44c2-8b12-d32c9ea41dbe",
   "metadata": {},
   "source": [
    "Some of the commonly used libraries used by Data Scientists include:\n",
    "1. TensorFlow\n",
    "2. NumPy\n",
    "3. SciPy\n",
    "4. Pandas\n",
    "5. Matplotlib\n",
    "6. Keras\n",
    "7. And more..."
   ]
  },
  {
   "cell_type": "markdown",
   "id": "7904ba4c-a7ff-4d2d-8d7b-a6bf610cfaef",
   "metadata": {},
   "source": [
    "|Data Science Tools|\n",
    "|------------------|\n",
    "|     RStudio      |\n",
    "|   Apache Spark   |\n",
    "|  Apache Hadoop   |"
   ]
  },
  {
   "cell_type": "markdown",
   "id": "39532673-0498-42c8-bdd0-95911ff84a84",
   "metadata": {},
   "source": [
    "### Below are a few examples of evaluating arithmetic expressions in Python."
   ]
  },
  {
   "cell_type": "markdown",
   "id": "09527dfc-fd4a-4fe7-a1a8-54e8b1135915",
   "metadata": {},
   "source": [
    "*This is a simple arithmetic expression to multiply then add integers*"
   ]
  },
  {
   "cell_type": "code",
   "execution_count": 5,
   "id": "85d115e3-1e0f-4874-a3b1-31a8dc4c3e3e",
   "metadata": {},
   "outputs": [
    {
     "data": {
      "text/plain": [
       "17"
      ]
     },
     "execution_count": 5,
     "metadata": {},
     "output_type": "execute_result"
    }
   ],
   "source": [
    "(3*4)+5"
   ]
  },
  {
   "cell_type": "markdown",
   "id": "b02b1012-1bd1-431e-bc4f-3ed8eaed4c67",
   "metadata": {},
   "source": [
    "*This will convert 200 minutes to hours by dividing by 60*"
   ]
  },
  {
   "cell_type": "code",
   "execution_count": 4,
   "id": "9b9b3071-f1bd-469a-9b59-9f5c3250a554",
   "metadata": {},
   "outputs": [
    {
     "data": {
      "text/plain": [
       "3.3333333333333335"
      ]
     },
     "execution_count": 4,
     "metadata": {},
     "output_type": "execute_result"
    }
   ],
   "source": [
    "200/60"
   ]
  },
  {
   "cell_type": "code",
   "execution_count": null,
   "id": "fa850a3d-656f-421c-b2f8-6e11205e3f42",
   "metadata": {},
   "outputs": [],
   "source": []
  },
  {
   "cell_type": "markdown",
   "id": "08866342-940f-41f9-bea4-da1d7a373a59",
   "metadata": {},
   "source": [
    "## Author\n",
    "Nabil Hammia"
   ]
  }
 ],
 "metadata": {
  "kernelspec": {
   "display_name": "Python",
   "language": "python",
   "name": "conda-env-python-py"
  },
  "language_info": {
   "codemirror_mode": {
    "name": "ipython",
    "version": 3
   },
   "file_extension": ".py",
   "mimetype": "text/x-python",
   "name": "python",
   "nbconvert_exporter": "python",
   "pygments_lexer": "ipython3",
   "version": "3.7.12"
  }
 },
 "nbformat": 4,
 "nbformat_minor": 5
}
